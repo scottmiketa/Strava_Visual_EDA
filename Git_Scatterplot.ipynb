{
 "cells": [
  {
   "cell_type": "markdown",
   "id": "573bc917-d5a9-46d2-a06c-3cd254cf3cae",
   "metadata": {},
   "source": [
    "## Strava Scatterplot"
   ]
  },
  {
   "cell_type": "code",
   "execution_count": 1,
   "id": "726be01a-0d9e-4bc0-b4e7-4bae68139bcd",
   "metadata": {},
   "outputs": [],
   "source": [
    "import pandas as pd\n",
    "import numpy as np\n",
    "import plotly.graph_objects as go\n",
    "strava = pd.read_csv(\"strava.csv\")"
   ]
  },
  {
   "cell_type": "markdown",
   "id": "6591b397-cfe0-4a96-b3f3-623f6ef929c2",
   "metadata": {},
   "source": [
    "Next, we will filter to the workouts that contain only running workouts, and take only the columns that we need for our scatterplot"
   ]
  },
  {
   "cell_type": "code",
   "execution_count": 2,
   "id": "4825f273-c578-430c-b643-7fb39fe2f339",
   "metadata": {},
   "outputs": [],
   "source": [
    "strava['month'] = pd.DatetimeIndex(strava['timestamp']).month\n",
    "strava_run = strava[strava['month'] <=8]\n",
    "strava_scatter = strava_run[['heart_rate', 'datafile', 'altitude','enhanced_speed']]\n",
    "\n",
    "#drop NaN values\n",
    "strava_scatter=strava_scatter.dropna(subset= ['heart_rate','altitude'], how = 'any')"
   ]
  },
  {
   "cell_type": "markdown",
   "id": "3d5c3bdb-4693-4ed2-bc61-996463a80f43",
   "metadata": {},
   "source": [
    "Create a new table \"alt\" that will take the total absolute value of the delta in altitude for each workout"
   ]
  },
  {
   "cell_type": "code",
   "execution_count": 3,
   "id": "462b0379-bbfb-437f-917c-265d37a8a689",
   "metadata": {},
   "outputs": [
    {
     "data": {
      "text/html": [
       "<div>\n",
       "<style scoped>\n",
       "    .dataframe tbody tr th:only-of-type {\n",
       "        vertical-align: middle;\n",
       "    }\n",
       "\n",
       "    .dataframe tbody tr th {\n",
       "        vertical-align: top;\n",
       "    }\n",
       "\n",
       "    .dataframe thead th {\n",
       "        text-align: right;\n",
       "    }\n",
       "</style>\n",
       "<table border=\"1\" class=\"dataframe\">\n",
       "  <thead>\n",
       "    <tr style=\"text-align: right;\">\n",
       "      <th></th>\n",
       "      <th>datafile</th>\n",
       "      <th>altitude</th>\n",
       "    </tr>\n",
       "  </thead>\n",
       "  <tbody>\n",
       "    <tr>\n",
       "      <th>0</th>\n",
       "      <td>activities/2675855419.fit.gz</td>\n",
       "      <td>1115.0</td>\n",
       "    </tr>\n",
       "    <tr>\n",
       "      <th>1</th>\n",
       "      <td>activities/2677658978.fit.gz</td>\n",
       "      <td>460.0</td>\n",
       "    </tr>\n",
       "    <tr>\n",
       "      <th>2</th>\n",
       "      <td>activities/2677658993.fit.gz</td>\n",
       "      <td>324.0</td>\n",
       "    </tr>\n",
       "    <tr>\n",
       "      <th>3</th>\n",
       "      <td>activities/2677659014.fit.gz</td>\n",
       "      <td>259.0</td>\n",
       "    </tr>\n",
       "    <tr>\n",
       "      <th>4</th>\n",
       "      <td>activities/2682705331.fit.gz</td>\n",
       "      <td>3323.0</td>\n",
       "    </tr>\n",
       "  </tbody>\n",
       "</table>\n",
       "</div>"
      ],
      "text/plain": [
       "                       datafile  altitude\n",
       "0  activities/2675855419.fit.gz    1115.0\n",
       "1  activities/2677658978.fit.gz     460.0\n",
       "2  activities/2677658993.fit.gz     324.0\n",
       "3  activities/2677659014.fit.gz     259.0\n",
       "4  activities/2682705331.fit.gz    3323.0"
      ]
     },
     "execution_count": 3,
     "metadata": {},
     "output_type": "execute_result"
    }
   ],
   "source": [
    "alt=strava_scatter.set_index('datafile').diff()\n",
    "alt['altitude']=alt['altitude'].abs()\n",
    "alt=alt.groupby('datafile').altitude.agg('sum').reset_index()\n",
    "alt.head()"
   ]
  },
  {
   "cell_type": "markdown",
   "id": "333c4ff6-7274-4164-990b-e590aa13cce8",
   "metadata": {},
   "source": [
    "Next, take the average heart rate and speed for each workout, and join that to the alt table we created above."
   ]
  },
  {
   "cell_type": "code",
   "execution_count": 5,
   "id": "1a6fd00e-9eb2-4d16-8237-0d2712484b6e",
   "metadata": {},
   "outputs": [
    {
     "data": {
      "text/html": [
       "<div>\n",
       "<style scoped>\n",
       "    .dataframe tbody tr th:only-of-type {\n",
       "        vertical-align: middle;\n",
       "    }\n",
       "\n",
       "    .dataframe tbody tr th {\n",
       "        vertical-align: top;\n",
       "    }\n",
       "\n",
       "    .dataframe thead th {\n",
       "        text-align: right;\n",
       "    }\n",
       "</style>\n",
       "<table border=\"1\" class=\"dataframe\">\n",
       "  <thead>\n",
       "    <tr style=\"text-align: right;\">\n",
       "      <th></th>\n",
       "      <th>datafile</th>\n",
       "      <th>altitude</th>\n",
       "      <th>enhanced_speed</th>\n",
       "      <th>heart_rate</th>\n",
       "    </tr>\n",
       "  </thead>\n",
       "  <tbody>\n",
       "    <tr>\n",
       "      <th>0</th>\n",
       "      <td>activities/2675855419.fit.gz</td>\n",
       "      <td>1115.0</td>\n",
       "      <td>2.108519</td>\n",
       "      <td>118.946502</td>\n",
       "    </tr>\n",
       "    <tr>\n",
       "      <th>1</th>\n",
       "      <td>activities/2677658978.fit.gz</td>\n",
       "      <td>460.0</td>\n",
       "      <td>2.618897</td>\n",
       "      <td>122.117647</td>\n",
       "    </tr>\n",
       "    <tr>\n",
       "      <th>2</th>\n",
       "      <td>activities/2677658993.fit.gz</td>\n",
       "      <td>324.0</td>\n",
       "      <td>2.683778</td>\n",
       "      <td>135.592593</td>\n",
       "    </tr>\n",
       "    <tr>\n",
       "      <th>3</th>\n",
       "      <td>activities/2677659014.fit.gz</td>\n",
       "      <td>259.0</td>\n",
       "      <td>2.437679</td>\n",
       "      <td>134.571429</td>\n",
       "    </tr>\n",
       "    <tr>\n",
       "      <th>4</th>\n",
       "      <td>activities/2682705331.fit.gz</td>\n",
       "      <td>3323.0</td>\n",
       "      <td>1.966212</td>\n",
       "      <td>117.687157</td>\n",
       "    </tr>\n",
       "  </tbody>\n",
       "</table>\n",
       "</div>"
      ],
      "text/plain": [
       "                       datafile  altitude  enhanced_speed  heart_rate\n",
       "0  activities/2675855419.fit.gz    1115.0        2.108519  118.946502\n",
       "1  activities/2677658978.fit.gz     460.0        2.618897  122.117647\n",
       "2  activities/2677658993.fit.gz     324.0        2.683778  135.592593\n",
       "3  activities/2677659014.fit.gz     259.0        2.437679  134.571429\n",
       "4  activities/2682705331.fit.gz    3323.0        1.966212  117.687157"
      ]
     },
     "execution_count": 5,
     "metadata": {},
     "output_type": "execute_result"
    }
   ],
   "source": [
    "avg=strava_scatter.groupby('datafile').agg({'enhanced_speed':'mean','heart_rate':'mean'}).reset_index()\n",
    "combined=alt.set_index('datafile').join(avg.set_index('datafile'))\n",
    "combined=combined.reset_index()\n",
    "combined.head()"
   ]
  },
  {
   "cell_type": "markdown",
   "id": "a9bd4a63-6b8b-4478-97a9-0cd623315142",
   "metadata": {},
   "source": [
    "Now that the data is cleaned and prepped, we can begin the scatterplot"
   ]
  },
  {
   "cell_type": "code",
   "execution_count": 6,
   "id": "626ac49c-47b5-4f14-9499-9e3dd53d1c3c",
   "metadata": {},
   "outputs": [],
   "source": [
    "fig = go.Figure(data=go.Scatter(x=combined['enhanced_speed'], ##speed on the x axis\n",
    "                                y=combined['heart_rate'], ##heart rate on the y axis\n",
    "                                mode='markers', ##set mode to individual markers for each value pair\n",
    "                                marker_color=combined['altitude'], ##color for each pair will be the value of its total change in altitude\n",
    "                                marker=dict(size=16, colorscale = 'Viridis', showscale=True),\n",
    "                                text = combined['datafile'], ##hovering over each point will show you which workout ID it was\n",
    "                               )) "
   ]
  },
  {
   "cell_type": "code",
   "execution_count": 9,
   "id": "c2f4cb60-9167-4d60-9965-4cd4449a933a",
   "metadata": {},
   "outputs": [
    {
     "data": {
      "image/svg+xml": [
       "<svg class=\"main-svg\" xmlns=\"http://www.w3.org/2000/svg\" xmlns:xlink=\"http://www.w3.org/1999/xlink\" width=\"800\" height=\"800\" style=\"\" viewBox=\"0 0 800 800\"><rect x=\"0\" y=\"0\" width=\"800\" height=\"800\" style=\"fill: rgb(255, 255, 255); fill-opacity: 1;\"/><defs id=\"defs-9b3e6f\"><g class=\"clips\"><clipPath id=\"clip9b3e6fxyplot\" class=\"plotclip\"><rect width=\"619\" height=\"620\"/></clipPath><clipPath class=\"axesclip\" id=\"clip9b3e6fx\"><rect x=\"80\" y=\"0\" width=\"619\" height=\"800\"/></clipPath><clipPath class=\"axesclip\" id=\"clip9b3e6fy\"><rect x=\"0\" y=\"100\" width=\"800\" height=\"620\"/></clipPath><clipPath class=\"axesclip\" id=\"clip9b3e6fxy\"><rect x=\"80\" y=\"100\" width=\"619\" height=\"620\"/></clipPath></g><g class=\"gradients\"><linearGradient x1=\"0\" x2=\"0\" y1=\"1\" y2=\"0\" id=\"g9b3e6f-cb9d1bfa\"><stop offset=\"0%\" stop-color=\"rgb(68, 1, 84)\" stop-opacity=\"1\"/><stop offset=\"11.111111%\" stop-color=\"rgb(72, 40, 120)\" stop-opacity=\"1\"/><stop offset=\"22.222222%\" stop-color=\"rgb(62, 73, 137)\" stop-opacity=\"1\"/><stop offset=\"33.333333%\" stop-color=\"rgb(49, 104, 142)\" stop-opacity=\"1\"/><stop offset=\"44.444444%\" stop-color=\"rgb(38, 130, 142)\" stop-opacity=\"1\"/><stop offset=\"55.555556%\" stop-color=\"rgb(31, 158, 137)\" stop-opacity=\"1\"/><stop offset=\"66.666667%\" stop-color=\"rgb(53, 183, 121)\" stop-opacity=\"1\"/><stop offset=\"77.777778%\" stop-color=\"rgb(110, 206, 88)\" stop-opacity=\"1\"/><stop offset=\"88.888889%\" stop-color=\"rgb(181, 222, 43)\" stop-opacity=\"1\"/><stop offset=\"100%\" stop-color=\"rgb(253, 231, 37)\" stop-opacity=\"1\"/></linearGradient></g><g class=\"patterns\"/></defs><g class=\"bglayer\"><rect class=\"bg\" x=\"80\" y=\"100\" width=\"619\" height=\"620\" style=\"fill: rgb(229, 236, 246); fill-opacity: 1; stroke-width: 0;\"/></g><g class=\"layer-below\"><g class=\"imagelayer\"/><g class=\"shapelayer\"/></g><g class=\"cartesianlayer\"><g class=\"subplot xy\"><g class=\"layer-subplot\"><g class=\"shapelayer\"/><g class=\"imagelayer\"/></g><g class=\"gridlayer\"><g class=\"x\"><path class=\"xgrid crisp\" transform=\"translate(112.81,0)\" d=\"M0,100v620\" style=\"stroke: rgb(255, 255, 255); stroke-opacity: 1; stroke-width: 1px;\"/><path class=\"xgrid crisp\" transform=\"translate(163.12,0)\" d=\"M0,100v620\" style=\"stroke: rgb(255, 255, 255); stroke-opacity: 1; stroke-width: 1px;\"/><path class=\"xgrid crisp\" transform=\"translate(213.43,0)\" d=\"M0,100v620\" style=\"stroke: rgb(255, 255, 255); stroke-opacity: 1; stroke-width: 1px;\"/><path class=\"xgrid crisp\" transform=\"translate(263.74,0)\" d=\"M0,100v620\" style=\"stroke: rgb(255, 255, 255); stroke-opacity: 1; stroke-width: 1px;\"/><path class=\"xgrid crisp\" transform=\"translate(314.05,0)\" d=\"M0,100v620\" style=\"stroke: rgb(255, 255, 255); stroke-opacity: 1; stroke-width: 1px;\"/><path class=\"xgrid crisp\" transform=\"translate(364.36,0)\" d=\"M0,100v620\" style=\"stroke: rgb(255, 255, 255); stroke-opacity: 1; stroke-width: 1px;\"/><path class=\"xgrid crisp\" transform=\"translate(414.67,0)\" d=\"M0,100v620\" style=\"stroke: rgb(255, 255, 255); stroke-opacity: 1; stroke-width: 1px;\"/><path class=\"xgrid crisp\" transform=\"translate(464.98,0)\" d=\"M0,100v620\" style=\"stroke: rgb(255, 255, 255); stroke-opacity: 1; stroke-width: 1px;\"/><path class=\"xgrid crisp\" transform=\"translate(515.28,0)\" d=\"M0,100v620\" style=\"stroke: rgb(255, 255, 255); stroke-opacity: 1; stroke-width: 1px;\"/><path class=\"xgrid crisp\" transform=\"translate(565.5899999999999,0)\" d=\"M0,100v620\" style=\"stroke: rgb(255, 255, 255); stroke-opacity: 1; stroke-width: 1px;\"/><path class=\"xgrid crisp\" transform=\"translate(615.9,0)\" d=\"M0,100v620\" style=\"stroke: rgb(255, 255, 255); stroke-opacity: 1; stroke-width: 1px;\"/><path class=\"xgrid crisp\" transform=\"translate(666.21,0)\" d=\"M0,100v620\" style=\"stroke: rgb(255, 255, 255); stroke-opacity: 1; stroke-width: 1px;\"/></g><g class=\"y\"><path class=\"ygrid crisp\" transform=\"translate(0,671.25)\" d=\"M80,0h619\" style=\"stroke: rgb(255, 255, 255); stroke-opacity: 1; stroke-width: 1px;\"/><path class=\"ygrid crisp\" transform=\"translate(0,575.8)\" d=\"M80,0h619\" style=\"stroke: rgb(255, 255, 255); stroke-opacity: 1; stroke-width: 1px;\"/><path class=\"ygrid crisp\" transform=\"translate(0,480.35)\" d=\"M80,0h619\" style=\"stroke: rgb(255, 255, 255); stroke-opacity: 1; stroke-width: 1px;\"/><path class=\"ygrid crisp\" transform=\"translate(0,384.9)\" d=\"M80,0h619\" style=\"stroke: rgb(255, 255, 255); stroke-opacity: 1; stroke-width: 1px;\"/><path class=\"ygrid crisp\" transform=\"translate(0,289.45)\" d=\"M80,0h619\" style=\"stroke: rgb(255, 255, 255); stroke-opacity: 1; stroke-width: 1px;\"/><path class=\"ygrid crisp\" transform=\"translate(0,194)\" d=\"M80,0h619\" style=\"stroke: rgb(255, 255, 255); stroke-opacity: 1; stroke-width: 1px;\"/></g></g><g class=\"zerolinelayer\"/><path class=\"xlines-below\"/><path class=\"ylines-below\"/><g class=\"overlines-below\"/><g class=\"xaxislayer-below\"/><g class=\"yaxislayer-below\"/><g class=\"overaxes-below\"/><g class=\"plot\" transform=\"translate(80,100)\" clip-path=\"url(#clip9b3e6fxyplot)\"><g class=\"scatterlayer mlayer\"><g class=\"trace scatter trace9d1bfa\" style=\"stroke-miterlimit: 2; opacity: 1;\"><g class=\"fills\"/><g class=\"errorbars\"/><g class=\"lines\"/><g class=\"points\"><path class=\"point\" transform=\"translate(288.64,390.4)\" d=\"M8,0A8,8 0 1,1 0,-8A8,8 0 0,1 8,0Z\" style=\"opacity: 1; stroke-width: 0px; fill: rgb(63, 71, 136); fill-opacity: 1;\"/><path class=\"point\" transform=\"translate(545.41,360.13)\" d=\"M8,0A8,8 0 1,1 0,-8A8,8 0 0,1 8,0Z\" style=\"opacity: 1; stroke-width: 0px; fill: rgb(71, 31, 112); fill-opacity: 1;\"/><path class=\"point\" transform=\"translate(578.05,231.52)\" d=\"M8,0A8,8 0 1,1 0,-8A8,8 0 0,1 8,0Z\" style=\"opacity: 1; stroke-width: 0px; fill: rgb(70, 21, 103); fill-opacity: 1;\"/><path class=\"point\" transform=\"translate(454.24,241.26)\" d=\"M8,0A8,8 0 1,1 0,-8A8,8 0 0,1 8,0Z\" style=\"opacity: 1; stroke-width: 0px; fill: rgb(70, 17, 99); fill-opacity: 1;\"/><path class=\"point\" transform=\"translate(217.05,402.42)\" d=\"M8,0A8,8 0 1,1 0,-8A8,8 0 0,1 8,0Z\" style=\"opacity: 1; stroke-width: 0px; fill: rgb(51, 180, 123); fill-opacity: 1;\"/><path class=\"point\" transform=\"translate(125.92,466.49)\" d=\"M8,0A8,8 0 1,1 0,-8A8,8 0 0,1 8,0Z\" style=\"opacity: 1; stroke-width: 0px; fill: rgb(253, 231, 37); fill-opacity: 1;\"/><path class=\"point\" transform=\"translate(273.54,343.89)\" d=\"M8,0A8,8 0 1,1 0,-8A8,8 0 0,1 8,0Z\" style=\"opacity: 1; stroke-width: 0px; fill: rgb(60, 77, 138); fill-opacity: 1;\"/><path class=\"point\" transform=\"translate(385.18,467.23)\" d=\"M8,0A8,8 0 1,1 0,-8A8,8 0 0,1 8,0Z\" style=\"opacity: 1; stroke-width: 0px; fill: rgb(70, 16, 98); fill-opacity: 1;\"/><path class=\"point\" transform=\"translate(463.86,323.29)\" d=\"M8,0A8,8 0 1,1 0,-8A8,8 0 0,1 8,0Z\" style=\"opacity: 1; stroke-width: 0px; fill: rgb(68, 1, 84); fill-opacity: 1;\"/><path class=\"point\" transform=\"translate(408.3,223.58)\" d=\"M8,0A8,8 0 1,1 0,-8A8,8 0 0,1 8,0Z\" style=\"opacity: 1; stroke-width: 0px; fill: rgb(58, 83, 139); fill-opacity: 1;\"/><path class=\"point\" transform=\"translate(40.95,358.63)\" d=\"M8,0A8,8 0 1,1 0,-8A8,8 0 0,1 8,0Z\" style=\"opacity: 1; stroke-width: 0px; fill: rgb(43, 118, 142); fill-opacity: 1;\"/><path class=\"point\" transform=\"translate(147.11,476.1)\" d=\"M8,0A8,8 0 1,1 0,-8A8,8 0 0,1 8,0Z\" style=\"opacity: 1; stroke-width: 0px; fill: rgb(32, 155, 138); fill-opacity: 1;\"/><path class=\"point\" transform=\"translate(114.87,496.42)\" d=\"M8,0A8,8 0 1,1 0,-8A8,8 0 0,1 8,0Z\" style=\"opacity: 1; stroke-width: 0px; fill: rgb(141, 213, 68); fill-opacity: 1;\"/><path class=\"point\" transform=\"translate(179.92,476.7)\" d=\"M8,0A8,8 0 1,1 0,-8A8,8 0 0,1 8,0Z\" style=\"opacity: 1; stroke-width: 0px; fill: rgb(55, 89, 140); fill-opacity: 1;\"/><path class=\"point\" transform=\"translate(424.06,284.97)\" d=\"M8,0A8,8 0 1,1 0,-8A8,8 0 0,1 8,0Z\" style=\"opacity: 1; stroke-width: 0px; fill: rgb(55, 89, 140); fill-opacity: 1;\"/><path class=\"point\" transform=\"translate(443.47,287.05)\" d=\"M8,0A8,8 0 1,1 0,-8A8,8 0 0,1 8,0Z\" style=\"opacity: 1; stroke-width: 0px; fill: rgb(58, 83, 139); fill-opacity: 1;\"/><path class=\"point\" transform=\"translate(388.84,286.9)\" d=\"M8,0A8,8 0 1,1 0,-8A8,8 0 0,1 8,0Z\" style=\"opacity: 1; stroke-width: 0px; fill: rgb(50, 101, 141); fill-opacity: 1;\"/><path class=\"point\" transform=\"translate(322.13,356.22)\" d=\"M8,0A8,8 0 1,1 0,-8A8,8 0 0,1 8,0Z\" style=\"opacity: 1; stroke-width: 0px; fill: rgb(37, 165, 133); fill-opacity: 1;\"/><path class=\"point\" transform=\"translate(184.92,459.51)\" d=\"M8,0A8,8 0 1,1 0,-8A8,8 0 0,1 8,0Z\" style=\"opacity: 1; stroke-width: 0px; fill: rgb(64, 66, 133); fill-opacity: 1;\"/><path class=\"point\" transform=\"translate(211.24,400.08)\" d=\"M8,0A8,8 0 1,1 0,-8A8,8 0 0,1 8,0Z\" style=\"opacity: 1; stroke-width: 0px; fill: rgb(139, 212, 70); fill-opacity: 1;\"/><path class=\"point\" transform=\"translate(232.58,440.95)\" d=\"M8,0A8,8 0 1,1 0,-8A8,8 0 0,1 8,0Z\" style=\"opacity: 1; stroke-width: 0px; fill: rgb(40, 125, 142); fill-opacity: 1;\"/><path class=\"point\" transform=\"translate(315.69,398.13)\" d=\"M8,0A8,8 0 1,1 0,-8A8,8 0 0,1 8,0Z\" style=\"opacity: 1; stroke-width: 0px; fill: rgb(46, 110, 142); fill-opacity: 1;\"/><path class=\"point\" transform=\"translate(71.07,579)\" d=\"M8,0A8,8 0 1,1 0,-8A8,8 0 0,1 8,0Z\" style=\"opacity: 1; stroke-width: 0px; fill: rgb(50, 102, 142); fill-opacity: 1;\"/><path class=\"point\" transform=\"translate(268.16,390.26)\" d=\"M8,0A8,8 0 1,1 0,-8A8,8 0 0,1 8,0Z\" style=\"opacity: 1; stroke-width: 0px; fill: rgb(34, 145, 139); fill-opacity: 1;\"/><path class=\"point\" transform=\"translate(207.38,550.04)\" d=\"M8,0A8,8 0 1,1 0,-8A8,8 0 0,1 8,0Z\" style=\"opacity: 1; stroke-width: 0px; fill: rgb(66, 59, 130); fill-opacity: 1;\"/><path class=\"point\" transform=\"translate(227.65,487.31)\" d=\"M8,0A8,8 0 1,1 0,-8A8,8 0 0,1 8,0Z\" style=\"opacity: 1; stroke-width: 0px; fill: rgb(47, 109, 142); fill-opacity: 1;\"/><path class=\"point\" transform=\"translate(298.94,427.06)\" d=\"M8,0A8,8 0 1,1 0,-8A8,8 0 0,1 8,0Z\" style=\"opacity: 1; stroke-width: 0px; fill: rgb(64, 67, 134); fill-opacity: 1;\"/><path class=\"point\" transform=\"translate(416.05,309.55)\" d=\"M8,0A8,8 0 1,1 0,-8A8,8 0 0,1 8,0Z\" style=\"opacity: 1; stroke-width: 0px; fill: rgb(51, 99, 141); fill-opacity: 1;\"/><path class=\"point\" transform=\"translate(248.69,551.14)\" d=\"M8,0A8,8 0 1,1 0,-8A8,8 0 0,1 8,0Z\" style=\"opacity: 1; stroke-width: 0px; fill: rgb(45, 113, 142); fill-opacity: 1;\"/><path class=\"point\" transform=\"translate(433.31,305.64)\" d=\"M8,0A8,8 0 1,1 0,-8A8,8 0 0,1 8,0Z\" style=\"opacity: 1; stroke-width: 0px; fill: rgb(48, 106, 142); fill-opacity: 1;\"/><path class=\"point\" transform=\"translate(264.48,367.57)\" d=\"M8,0A8,8 0 1,1 0,-8A8,8 0 0,1 8,0Z\" style=\"opacity: 1; stroke-width: 0px; fill: rgb(32, 159, 136); fill-opacity: 1;\"/><path class=\"point\" transform=\"translate(235.03,373.1)\" d=\"M8,0A8,8 0 1,1 0,-8A8,8 0 0,1 8,0Z\" style=\"opacity: 1; stroke-width: 0px; fill: rgb(70, 46, 123); fill-opacity: 1;\"/><path class=\"point\" transform=\"translate(365.37,305.1)\" d=\"M8,0A8,8 0 1,1 0,-8A8,8 0 0,1 8,0Z\" style=\"opacity: 1; stroke-width: 0px; fill: rgb(59, 79, 138); fill-opacity: 1;\"/><path class=\"point\" transform=\"translate(348.08,300.35)\" d=\"M8,0A8,8 0 1,1 0,-8A8,8 0 0,1 8,0Z\" style=\"opacity: 1; stroke-width: 0px; fill: rgb(53, 94, 140); fill-opacity: 1;\"/><path class=\"point\" transform=\"translate(519.34,41)\" d=\"M8,0A8,8 0 1,1 0,-8A8,8 0 0,1 8,0Z\" style=\"opacity: 1; stroke-width: 0px; fill: rgb(64, 68, 134); fill-opacity: 1;\"/><path class=\"point\" transform=\"translate(92.96,230.05)\" d=\"M8,0A8,8 0 1,1 0,-8A8,8 0 0,1 8,0Z\" style=\"opacity: 1; stroke-width: 0px; fill: rgb(39, 128, 142); fill-opacity: 1;\"/><path class=\"point\" transform=\"translate(338.38,207.85)\" d=\"M8,0A8,8 0 1,1 0,-8A8,8 0 0,1 8,0Z\" style=\"opacity: 1; stroke-width: 0px; fill: rgb(38, 130, 142); fill-opacity: 1;\"/><path class=\"point\" transform=\"translate(547.79,93.07)\" d=\"M8,0A8,8 0 1,1 0,-8A8,8 0 0,1 8,0Z\" style=\"opacity: 1; stroke-width: 0px; fill: rgb(55, 89, 140); fill-opacity: 1;\"/><path class=\"point\" transform=\"translate(562.48,119.56)\" d=\"M8,0A8,8 0 1,1 0,-8A8,8 0 0,1 8,0Z\" style=\"opacity: 1; stroke-width: 0px; fill: rgb(36, 137, 141); fill-opacity: 1;\"/><path class=\"point\" transform=\"translate(355.04,312.23)\" d=\"M8,0A8,8 0 1,1 0,-8A8,8 0 0,1 8,0Z\" style=\"opacity: 1; stroke-width: 0px; fill: rgb(65, 65, 133); fill-opacity: 1;\"/><path class=\"point\" transform=\"translate(438.42,196.73)\" d=\"M8,0A8,8 0 1,1 0,-8A8,8 0 0,1 8,0Z\" style=\"opacity: 1; stroke-width: 0px; fill: rgb(43, 118, 142); fill-opacity: 1;\"/></g><g class=\"text\"/></g></g></g><g class=\"overplot\"/><path class=\"xlines-above crisp\" d=\"M0,0\" style=\"fill: none;\"/><path class=\"ylines-above crisp\" d=\"M0,0\" style=\"fill: none;\"/><g class=\"overlines-above\"/><g class=\"xaxislayer-above\"><g class=\"xtick\"><text text-anchor=\"middle\" x=\"0\" y=\"733\" transform=\"translate(112.81,0)\" style=\"font-family: 'Open Sans', verdana, arial, sans-serif; font-size: 12px; fill: rgb(42, 63, 95); fill-opacity: 1; white-space: pre; opacity: 1;\">1.6</text></g><g class=\"xtick\"><text text-anchor=\"middle\" x=\"0\" y=\"733\" style=\"font-family: 'Open Sans', verdana, arial, sans-serif; font-size: 12px; fill: rgb(42, 63, 95); fill-opacity: 1; white-space: pre; opacity: 1;\" transform=\"translate(163.12,0)\">1.7</text></g><g class=\"xtick\"><text text-anchor=\"middle\" x=\"0\" y=\"733\" style=\"font-family: 'Open Sans', verdana, arial, sans-serif; font-size: 12px; fill: rgb(42, 63, 95); fill-opacity: 1; white-space: pre; opacity: 1;\" transform=\"translate(213.43,0)\">1.8</text></g><g class=\"xtick\"><text text-anchor=\"middle\" x=\"0\" y=\"733\" style=\"font-family: 'Open Sans', verdana, arial, sans-serif; font-size: 12px; fill: rgb(42, 63, 95); fill-opacity: 1; white-space: pre; opacity: 1;\" transform=\"translate(263.74,0)\">1.9</text></g><g class=\"xtick\"><text text-anchor=\"middle\" x=\"0\" y=\"733\" style=\"font-family: 'Open Sans', verdana, arial, sans-serif; font-size: 12px; fill: rgb(42, 63, 95); fill-opacity: 1; white-space: pre; opacity: 1;\" transform=\"translate(314.05,0)\">2</text></g><g class=\"xtick\"><text text-anchor=\"middle\" x=\"0\" y=\"733\" style=\"font-family: 'Open Sans', verdana, arial, sans-serif; font-size: 12px; fill: rgb(42, 63, 95); fill-opacity: 1; white-space: pre; opacity: 1;\" transform=\"translate(364.36,0)\">2.1</text></g><g class=\"xtick\"><text text-anchor=\"middle\" x=\"0\" y=\"733\" style=\"font-family: 'Open Sans', verdana, arial, sans-serif; font-size: 12px; fill: rgb(42, 63, 95); fill-opacity: 1; white-space: pre; opacity: 1;\" transform=\"translate(414.67,0)\">2.2</text></g><g class=\"xtick\"><text text-anchor=\"middle\" x=\"0\" y=\"733\" style=\"font-family: 'Open Sans', verdana, arial, sans-serif; font-size: 12px; fill: rgb(42, 63, 95); fill-opacity: 1; white-space: pre; opacity: 1;\" transform=\"translate(464.98,0)\">2.3</text></g><g class=\"xtick\"><text text-anchor=\"middle\" x=\"0\" y=\"733\" style=\"font-family: 'Open Sans', verdana, arial, sans-serif; font-size: 12px; fill: rgb(42, 63, 95); fill-opacity: 1; white-space: pre; opacity: 1;\" transform=\"translate(515.28,0)\">2.4</text></g><g class=\"xtick\"><text text-anchor=\"middle\" x=\"0\" y=\"733\" style=\"font-family: 'Open Sans', verdana, arial, sans-serif; font-size: 12px; fill: rgb(42, 63, 95); fill-opacity: 1; white-space: pre; opacity: 1;\" transform=\"translate(565.5899999999999,0)\">2.5</text></g><g class=\"xtick\"><text text-anchor=\"middle\" x=\"0\" y=\"733\" style=\"font-family: 'Open Sans', verdana, arial, sans-serif; font-size: 12px; fill: rgb(42, 63, 95); fill-opacity: 1; white-space: pre; opacity: 1;\" transform=\"translate(615.9,0)\">2.6</text></g><g class=\"xtick\"><text text-anchor=\"middle\" x=\"0\" y=\"733\" style=\"font-family: 'Open Sans', verdana, arial, sans-serif; font-size: 12px; fill: rgb(42, 63, 95); fill-opacity: 1; white-space: pre; opacity: 1;\" transform=\"translate(666.21,0)\">2.7</text></g></g><g class=\"yaxislayer-above\"><g class=\"ytick\"><text text-anchor=\"end\" x=\"79\" y=\"4.199999999999999\" transform=\"translate(0,671.25)\" style=\"font-family: 'Open Sans', verdana, arial, sans-serif; font-size: 12px; fill: rgb(42, 63, 95); fill-opacity: 1; white-space: pre; opacity: 1;\">100</text></g><g class=\"ytick\"><text text-anchor=\"end\" x=\"79\" y=\"4.199999999999999\" style=\"font-family: 'Open Sans', verdana, arial, sans-serif; font-size: 12px; fill: rgb(42, 63, 95); fill-opacity: 1; white-space: pre; opacity: 1;\" transform=\"translate(0,575.8)\">110</text></g><g class=\"ytick\"><text text-anchor=\"end\" x=\"79\" y=\"4.199999999999999\" style=\"font-family: 'Open Sans', verdana, arial, sans-serif; font-size: 12px; fill: rgb(42, 63, 95); fill-opacity: 1; white-space: pre; opacity: 1;\" transform=\"translate(0,480.35)\">120</text></g><g class=\"ytick\"><text text-anchor=\"end\" x=\"79\" y=\"4.199999999999999\" style=\"font-family: 'Open Sans', verdana, arial, sans-serif; font-size: 12px; fill: rgb(42, 63, 95); fill-opacity: 1; white-space: pre; opacity: 1;\" transform=\"translate(0,384.9)\">130</text></g><g class=\"ytick\"><text text-anchor=\"end\" x=\"79\" y=\"4.199999999999999\" style=\"font-family: 'Open Sans', verdana, arial, sans-serif; font-size: 12px; fill: rgb(42, 63, 95); fill-opacity: 1; white-space: pre; opacity: 1;\" transform=\"translate(0,289.45)\">140</text></g><g class=\"ytick\"><text text-anchor=\"end\" x=\"79\" y=\"4.199999999999999\" style=\"font-family: 'Open Sans', verdana, arial, sans-serif; font-size: 12px; fill: rgb(42, 63, 95); fill-opacity: 1; white-space: pre; opacity: 1;\" transform=\"translate(0,194)\">150</text></g></g><g class=\"overaxes-above\"/></g></g><g class=\"polarlayer\"/><g class=\"ternarylayer\"/><g class=\"geolayer\"/><g class=\"funnelarealayer\"/><g class=\"pielayer\"/><g class=\"iciclelayer\"/><g class=\"treemaplayer\"/><g class=\"sunburstlayer\"/><g class=\"glimages\"/><defs id=\"topdefs-9b3e6f\"><g class=\"clips\"/></defs><g class=\"layer-above\"><g class=\"imagelayer\"/><g class=\"shapelayer\"/></g><g class=\"infolayer\"><g class=\"cb9d1bfa colorbar\" transform=\"translate(80,100)\"><rect class=\"cbbg\" x=\"631\" y=\"0\" width=\"77.03125\" height=\"620\" style=\"fill: rgb(0, 0, 0); fill-opacity: 0; stroke: rgb(68, 68, 68); stroke-opacity: 1; stroke-width: 0;\"/><g class=\"cbfills\" transform=\"translate(0,10)\"><rect class=\"cbfill\" x=\"641\" width=\"30\" y=\"0\" height=\"600\" style=\"fill: url('#g9b3e6f-cb9d1bfa');\"/></g><g class=\"cblines\" transform=\"translate(0,10)\"/><g class=\"cbaxis crisp\" transform=\"translate(0,-100)\"><g class=\"ycb9d1bfatick\"><text text-anchor=\"start\" x=\"673.9\" y=\"4.199999999999999\" transform=\"translate(0,594.49)\" style=\"font-family: 'Open Sans', verdana, arial, sans-serif; font-size: 12px; fill: rgb(42, 63, 95); fill-opacity: 1; white-space: pre; opacity: 1;\">1000</text></g><g class=\"ycb9d1bfatick\"><text text-anchor=\"start\" x=\"673.9\" y=\"4.199999999999999\" style=\"font-family: 'Open Sans', verdana, arial, sans-serif; font-size: 12px; fill: rgb(42, 63, 95); fill-opacity: 1; white-space: pre; opacity: 1;\" transform=\"translate(0,475.16)\">2000</text></g><g class=\"ycb9d1bfatick\"><text text-anchor=\"start\" x=\"673.9\" y=\"4.199999999999999\" style=\"font-family: 'Open Sans', verdana, arial, sans-serif; font-size: 12px; fill: rgb(42, 63, 95); fill-opacity: 1; white-space: pre; opacity: 1;\" transform=\"translate(0,355.82)\">3000</text></g><g class=\"ycb9d1bfatick\"><text text-anchor=\"start\" x=\"673.9\" y=\"4.199999999999999\" style=\"font-family: 'Open Sans', verdana, arial, sans-serif; font-size: 12px; fill: rgb(42, 63, 95); fill-opacity: 1; white-space: pre; opacity: 1;\" transform=\"translate(0,236.48999999999998)\">4000</text></g><g class=\"ycb9d1bfatick\"><text text-anchor=\"start\" x=\"673.9\" y=\"4.199999999999999\" style=\"font-family: 'Open Sans', verdana, arial, sans-serif; font-size: 12px; fill: rgb(42, 63, 95); fill-opacity: 1; white-space: pre; opacity: 1;\" transform=\"translate(0,117.15999999999998)\">5000</text></g></g><g class=\"cbtitleunshift\" transform=\"translate(-80,-100)\"><g class=\"cbtitle\"/></g><rect class=\"cboutline\" x=\"641\" y=\"10\" width=\"30\" height=\"600\" style=\"stroke: rgb(68, 68, 68); stroke-opacity: 1; fill: none; stroke-width: 0;\"/></g><g class=\"g-gtitle\"><text class=\"gtitle\" x=\"400\" y=\"64\" text-anchor=\"middle\" dy=\"0.7em\" style=\"font-family: 'Open Sans', verdana, arial, sans-serif; font-size: 17px; fill: rgb(42, 63, 95); opacity: 1; font-weight: normal; white-space: pre;\"><tspan class=\"line\" dy=\"0em\" x=\"400\" y=\"64\">Average heart rate and average speed per run, </tspan><tspan class=\"line\" dy=\"1.3em\" x=\"400\" y=\"64\">colored by overall change in altitude</tspan></text></g><g class=\"g-xtitle\"><text class=\"xtitle\" x=\"389.5\" y=\"760.8\" text-anchor=\"middle\" style=\"font-family: 'Open Sans', verdana, arial, sans-serif; font-size: 14px; fill: rgb(42, 63, 95); opacity: 1; font-weight: normal; white-space: pre;\">Average speed in meters per second</text></g><g class=\"g-ytitle\"><text class=\"ytitle\" transform=\"rotate(-90,34.16875,410)\" x=\"34.16875\" y=\"410\" text-anchor=\"middle\" style=\"font-family: 'Open Sans', verdana, arial, sans-serif; font-size: 14px; fill: rgb(42, 63, 95); opacity: 1; font-weight: normal; white-space: pre;\">Average heart rate in beats per minute</text></g></g></svg>"
      ]
     },
     "metadata": {},
     "output_type": "display_data"
    }
   ],
   "source": [
    "fig.update_layout(\n",
    "        title={\n",
    "        'text': \"Average heart rate and average speed per run, <br>colored by overall change in altitude\",\n",
    "        'y':0.92, #set the location of the title, and anchor points\n",
    "        'x':0.5,\n",
    "        'xanchor': 'center',\n",
    "        'yanchor': 'top'},\n",
    "    \n",
    "        xaxis_title=\"Average speed in meters per second\", #set axis titles\n",
    "        yaxis_title=\"Average heart rate in beats per minute\",\n",
    "        width = 800, height = 800, #set figure size\n",
    "\n",
    "        xaxis = dict( #customize ticks for the x axis\n",
    "        tickmode = 'linear',\n",
    "        tick0 = 1.6,\n",
    "        dtick = 0.1\n",
    "    )\n",
    "\n",
    ")\n",
    "fig.show(\"svg\")"
   ]
  },
  {
   "cell_type": "markdown",
   "id": "aa789271-1121-407e-9556-6c80e88de025",
   "metadata": {},
   "source": [
    "The scatterplot is able to show us some meaningful information about the client's running workouts. There seems to be a moderately positive correlation between the average speed of the workout and the average heart rate for each workout. The faster the client ran, the higher their heart rate was on average. There didn't seem to be a meaningful interaction with changes in altitude, however. I would have suspected that a workout with a high change in altitude would be more difficult, and possibly having a negative correlation with average speed, and a positive correlation with average heart rate, but neither seem to be true. There is a chance that a change in altitude was compensated for, perhaps by taking a slower pace, or maybe workouts that included large changes in altitude were shorter in distance."
   ]
  },
  {
   "cell_type": "code",
   "execution_count": null,
   "id": "4478e458-7804-423d-b9e9-84b7e8990245",
   "metadata": {},
   "outputs": [],
   "source": []
  }
 ],
 "metadata": {
  "kernelspec": {
   "display_name": "Python 3 (ipykernel)",
   "language": "python",
   "name": "python3"
  },
  "language_info": {
   "codemirror_mode": {
    "name": "ipython",
    "version": 3
   },
   "file_extension": ".py",
   "mimetype": "text/x-python",
   "name": "python",
   "nbconvert_exporter": "python",
   "pygments_lexer": "ipython3",
   "version": "3.7.10"
  }
 },
 "nbformat": 4,
 "nbformat_minor": 5
}
